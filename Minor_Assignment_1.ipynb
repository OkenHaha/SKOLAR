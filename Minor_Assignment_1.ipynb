{
  "nbformat": 4,
  "nbformat_minor": 0,
  "metadata": {
    "colab": {
      "provenance": []
    },
    "kernelspec": {
      "name": "python3",
      "display_name": "Python 3"
    },
    "language_info": {
      "name": "python"
    }
  },
  "cells": [
    {
      "cell_type": "markdown",
      "source": [
        "## Handling missing datasets using different methods\n"
      ],
      "metadata": {
        "id": "yf6iuBdJpcGK"
      }
    },
    {
      "cell_type": "markdown",
      "source": [
        "### Import Libraries"
      ],
      "metadata": {
        "id": "o0JNQg_8podv"
      }
    },
    {
      "cell_type": "code",
      "execution_count": null,
      "metadata": {
        "id": "VinFexXHpTG-"
      },
      "outputs": [],
      "source": [
        "import pandas as pd\n",
        "from sklearn.datasets import load_iris\n",
        "from sklearn.impute import SimpleImputer, KNNImputer\n",
        "from sklearn.model_selection import train_test_split\n",
        "import numpy as np"
      ]
    },
    {
      "cell_type": "markdown",
      "source": [
        "### Load the data"
      ],
      "metadata": {
        "id": "OwDPC8C2sFNp"
      }
    },
    {
      "cell_type": "code",
      "source": [
        "iris = load_iris()\n",
        "iris_df = pd.DataFrame(data=iris.data, columns=iris.feature_names)\n",
        "iris_df['target'] = iris.target"
      ],
      "metadata": {
        "id": "m0d_gbvWpr98"
      },
      "execution_count": null,
      "outputs": []
    },
    {
      "cell_type": "markdown",
      "source": [
        "### Introduce missing values in random places"
      ],
      "metadata": {
        "id": "4Dz_DZxSsLit"
      }
    },
    {
      "cell_type": "code",
      "source": [
        "np.random.seed(42)\n",
        "mask = np.random.choice([True, False], size=iris_df.shape, p=[0.2, 0.8])\n",
        "iris_df[mask] = np.nan"
      ],
      "metadata": {
        "id": "C4J2D-CZsHIP"
      },
      "execution_count": null,
      "outputs": []
    },
    {
      "cell_type": "markdown",
      "source": [
        "### Split the data"
      ],
      "metadata": {
        "id": "kkb6pPPusRCq"
      }
    },
    {
      "cell_type": "code",
      "source": [
        "X = iris_df.drop('target', axis=1)\n",
        "y = iris_df['target']"
      ],
      "metadata": {
        "id": "1Z1wuxaksOdW"
      },
      "execution_count": null,
      "outputs": []
    },
    {
      "cell_type": "code",
      "source": [
        "X_train, X_test, y_train, y_test = train_test_split(X, y, test_size=0.2, random_state=42)"
      ],
      "metadata": {
        "id": "VyeL5D2RsVYV"
      },
      "execution_count": null,
      "outputs": []
    },
    {
      "cell_type": "markdown",
      "source": [
        "### Mean Imputation"
      ],
      "metadata": {
        "id": "9b7ksySDsTKR"
      }
    },
    {
      "cell_type": "code",
      "source": [
        "mean_imputer = SimpleImputer(strategy='mean')\n",
        "X_train_mean_imputed = mean_imputer.fit_transform(X_train)\n",
        "X_test_mean_imputed = mean_imputer.transform(X_test)"
      ],
      "metadata": {
        "id": "P8G7DkMMsSn3"
      },
      "execution_count": null,
      "outputs": []
    },
    {
      "cell_type": "markdown",
      "source": [
        "### Median Imputation"
      ],
      "metadata": {
        "id": "f6qPbIQWshpY"
      }
    },
    {
      "cell_type": "code",
      "source": [
        "median_imputer = SimpleImputer(strategy='median')\n",
        "X_train_median_imputed = median_imputer.fit_transform(X_train)\n",
        "X_test_median_imputed = median_imputer.transform(X_test)"
      ],
      "metadata": {
        "id": "WimMKhrQseq_"
      },
      "execution_count": null,
      "outputs": []
    },
    {
      "cell_type": "markdown",
      "source": [
        "### K-nearest neighbors imputation"
      ],
      "metadata": {
        "id": "nZZ8HxVXsnYa"
      }
    },
    {
      "cell_type": "code",
      "source": [
        "knn_imputer = KNNImputer(n_neighbors=5)\n",
        "X_train_knn_imputed = knn_imputer.fit_transform(X_train)\n",
        "X_test_knn_imputed = knn_imputer.transform(X_test)"
      ],
      "metadata": {
        "id": "MbXL3DxssjOw"
      },
      "execution_count": null,
      "outputs": []
    },
    {
      "cell_type": "markdown",
      "source": [
        "### Results\n"
      ],
      "metadata": {
        "id": "beQ-bwzystxA"
      }
    },
    {
      "cell_type": "code",
      "source": [
        "print(\"Original Data:\")\n",
        "print(X_train.head())\n",
        "print(\"\\nMean Imputation:\")\n",
        "print(pd.DataFrame(X_train_mean_imputed, columns=X_train.columns).head())\n",
        "print(\"\\nMedian Imputation:\")\n",
        "print(pd.DataFrame(X_train_median_imputed, columns=X_train.columns).head())\n",
        "print(\"\\nK-nearest neighbors Imputation:\")\n",
        "print(pd.DataFrame(X_train_knn_imputed, columns=X_train.columns).head())"
      ],
      "metadata": {
        "colab": {
          "base_uri": "https://localhost:8080/"
        },
        "id": "Nf96GLJRsqI_",
        "outputId": "dd603033-1ef7-405c-89e4-3997ce1b5674"
      },
      "execution_count": null,
      "outputs": [
        {
          "output_type": "stream",
          "name": "stdout",
          "text": [
            "Original Data:\n",
            "    sepal length (cm)  sepal width (cm)  petal length (cm)  petal width (cm)\n",
            "22                4.6               NaN                1.0               0.2\n",
            "15                5.7               4.4                NaN               0.4\n",
            "65                6.7               3.1                4.4               1.4\n",
            "11                4.8               NaN                NaN               NaN\n",
            "42                4.4               3.2                1.3               0.2\n",
            "\n",
            "Mean Imputation:\n",
            "   sepal length (cm)  sepal width (cm)  petal length (cm)  petal width (cm)\n",
            "0                4.6          3.045161           1.000000          0.200000\n",
            "1                5.7          4.400000           3.734831          0.400000\n",
            "2                6.7          3.100000           4.400000          1.400000\n",
            "3                4.8          3.045161           3.734831          1.151546\n",
            "4                4.4          3.200000           1.300000          0.200000\n",
            "\n",
            "Median Imputation:\n",
            "   sepal length (cm)  sepal width (cm)  petal length (cm)  petal width (cm)\n",
            "0                4.6               3.0                1.0               0.2\n",
            "1                5.7               4.4                4.2               0.4\n",
            "2                6.7               3.1                4.4               1.4\n",
            "3                4.8               3.0                4.2               1.3\n",
            "4                4.4               3.2                1.3               0.2\n",
            "\n",
            "K-nearest neighbors Imputation:\n",
            "   sepal length (cm)  sepal width (cm)  petal length (cm)  petal width (cm)\n",
            "0                4.6              3.14               1.00              0.20\n",
            "1                5.7              4.40               2.10              0.40\n",
            "2                6.7              3.10               4.40              1.40\n",
            "3                4.8              3.04               2.06              0.48\n",
            "4                4.4              3.20               1.30              0.20\n"
          ]
        }
      ]
    },
    {
      "cell_type": "code",
      "source": [],
      "metadata": {
        "id": "d9XT62tpsvPY"
      },
      "execution_count": null,
      "outputs": []
    }
  ]
}